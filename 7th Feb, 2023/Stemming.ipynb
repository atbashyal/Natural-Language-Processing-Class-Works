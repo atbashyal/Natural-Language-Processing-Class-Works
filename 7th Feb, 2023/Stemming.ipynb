{
  "cells": [
    {
      "attachments": {},
      "cell_type": "markdown",
      "metadata": {},
      "source": [
        "#### Install necessary libraries"
      ]
    },
    {
      "cell_type": "code",
      "execution_count": 10,
      "metadata": {
        "colab": {
          "base_uri": "https://localhost:8080/"
        },
        "id": "JLO0koEkeCxA",
        "outputId": "cf1a422f-2304-4a84-c698-78574389723d"
      },
      "outputs": [
        {
          "name": "stdout",
          "output_type": "stream",
          "text": [
            "Defaulting to user installation because normal site-packages is not writeable\n",
            "Requirement already satisfied: urllib3 in /usr/lib/python3/dist-packages (1.26.5)\n"
          ]
        }
      ],
      "source": [
        "!pip3 install urllib3"
      ]
    },
    {
      "attachments": {},
      "cell_type": "markdown",
      "metadata": {},
      "source": [
        "#### Import urllib's request"
      ]
    },
    {
      "cell_type": "code",
      "execution_count": 11,
      "metadata": {
        "id": "DKsbPBfzemU8"
      },
      "outputs": [],
      "source": [
        "from urllib import request"
      ]
    },
    {
      "attachments": {},
      "cell_type": "markdown",
      "metadata": {},
      "source": [
        "#### Select a url to scrape it."
      ]
    },
    {
      "cell_type": "code",
      "execution_count": 12,
      "metadata": {
        "id": "K2POWxY8eq70"
      },
      "outputs": [],
      "source": [
        "url=\"https://www.gutenberg.org/cache/epub/69968/pg69968-images.html\""
      ]
    },
    {
      "attachments": {},
      "cell_type": "markdown",
      "metadata": {},
      "source": [
        "#### Get response from the webpage. This ensures that the page is legally scrapable."
      ]
    },
    {
      "cell_type": "code",
      "execution_count": 13,
      "metadata": {
        "id": "32TBjySse5Hc"
      },
      "outputs": [],
      "source": [
        "response=request.urlopen(url)"
      ]
    },
    {
      "attachments": {},
      "cell_type": "markdown",
      "metadata": {},
      "source": [
        "#### The text in webpage is utf8 encoded. So we decrypt it now."
      ]
    },
    {
      "cell_type": "code",
      "execution_count": 14,
      "metadata": {
        "id": "9z6f-vxgggP6"
      },
      "outputs": [],
      "source": [
        "raw=response.read().decode('utf8')"
      ]
    },
    {
      "attachments": {},
      "cell_type": "markdown",
      "metadata": {},
      "source": [
        "#### Import NLTK and tokenize the words (done in following cells)"
      ]
    },
    {
      "cell_type": "code",
      "execution_count": 15,
      "metadata": {
        "id": "kAXjo6zCgquT"
      },
      "outputs": [],
      "source": [
        "import nltk\n",
        "from nltk.tokenize import word_tokenize"
      ]
    },
    {
      "attachments": {},
      "cell_type": "markdown",
      "metadata": {},
      "source": [
        "#### Tokenize raw words extracted to variable \"raw\" after decoding"
      ]
    },
    {
      "cell_type": "code",
      "execution_count": 17,
      "metadata": {
        "colab": {
          "base_uri": "https://localhost:8080/",
          "height": 935
        },
        "id": "CD_QZJZ2g177",
        "outputId": "8e902bef-9fb3-4ec2-97f8-3bf4fbdbccf7"
      },
      "outputs": [
        {
          "name": "stdout",
          "output_type": "stream",
          "text": [
            "['<', '!', 'DOCTYPE', 'html', '>', '<', 'html', 'lang=', \"''\", 'en', \"''\", '>', '<', 'head', '>', '<', 'meta', 'charset=', \"''\", 'utf-8']\n"
          ]
        }
      ],
      "source": [
        "tokens=word_tokenize(raw)\n",
        "print(tokens[:20])"
      ]
    },
    {
      "attachments": {},
      "cell_type": "markdown",
      "metadata": {},
      "source": [
        "### Following are Stemming Algorithms used"
      ]
    },
    {
      "attachments": {},
      "cell_type": "markdown",
      "metadata": {},
      "source": [
        "##### Porter Stemming Algorithm"
      ]
    },
    {
      "cell_type": "code",
      "execution_count": 18,
      "metadata": {
        "id": "475Hx3cLi7ae"
      },
      "outputs": [
        {
          "data": {
            "text/plain": [
              "'walk'"
            ]
          },
          "execution_count": 18,
          "metadata": {},
          "output_type": "execute_result"
        }
      ],
      "source": [
        "from nltk.stem import PorterStemmer\n",
        "porter=PorterStemmer()\n",
        "porter.stem('walking')"
      ]
    },
    {
      "attachments": {},
      "cell_type": "markdown",
      "metadata": {},
      "source": [
        "##### Lancaster Stemming Algorithm"
      ]
    },
    {
      "cell_type": "code",
      "execution_count": 19,
      "metadata": {
        "id": "i9nq_xdKjK_U"
      },
      "outputs": [
        {
          "data": {
            "text/plain": [
              "'walk'"
            ]
          },
          "execution_count": 19,
          "metadata": {},
          "output_type": "execute_result"
        }
      ],
      "source": [
        "from nltk.stem import LancasterStemmer\n",
        "porter=LancasterStemmer()\n",
        "porter.stem('walking')"
      ]
    },
    {
      "attachments": {},
      "cell_type": "markdown",
      "metadata": {},
      "source": [
        "##### Regexp Stemming Algorithm"
      ]
    },
    {
      "cell_type": "code",
      "execution_count": 20,
      "metadata": {
        "id": "8o3zWmBOkDzy"
      },
      "outputs": [
        {
          "data": {
            "text/plain": [
              "'s'"
            ]
          },
          "execution_count": 20,
          "metadata": {},
          "output_type": "execute_result"
        }
      ],
      "source": [
        "from nltk.stem import RegexpStemmer\n",
        "porter=RegexpStemmer('ing')\n",
        "porter.stem('singing')"
      ]
    },
    {
      "attachments": {},
      "cell_type": "markdown",
      "metadata": {},
      "source": [
        "##### Snowball Stemming Algorithm"
      ]
    },
    {
      "cell_type": "code",
      "execution_count": 21,
      "metadata": {
        "id": "wlKV2ofskOMl"
      },
      "outputs": [
        {
          "data": {
            "text/plain": [
              "'detest'"
            ]
          },
          "execution_count": 21,
          "metadata": {},
          "output_type": "execute_result"
        }
      ],
      "source": [
        "from nltk.stem import SnowballStemmer\n",
        "porter=SnowballStemmer('french')\n",
        "porter.stem('detester')"
      ]
    },
    {
      "attachments": {},
      "cell_type": "markdown",
      "metadata": {},
      "source": [
        "### Stemming a paragraph using Porter Stemming Algorithm"
      ]
    },
    {
      "cell_type": "code",
      "execution_count": 26,
      "metadata": {
        "id": "KO11MPwmkt5e"
      },
      "outputs": [
        {
          "name": "stdout",
          "output_type": "stream",
          "text": [
            "the mean of life is a highli debat and subject concept that can differ from person to person. it can be defin as the purpose, significance, or reason for exist that an individu assign to their life experi and events. some individu find mean in relationships, other in their work, and still, other in spiritu or person growth. the mean of life is a uniqu and individu journey that may be shape by cultural, social, and person experi and beliefs. it is often a lifelong pursuit, constantli evolv and chang as a person grow and experi new things.\n"
          ]
        }
      ],
      "source": [
        "porter = PorterStemmer()\n",
        "text = \"The meaning of life is a highly debated and subjective concept that can differ from person to person. It can be defined as the purpose, significance, or reason for existence that an individual assigns to their life experiences and events. Some individuals find meaning in relationships, others in their work, and still, others in spirituality or personal growth. The meaning of life is a unique and individual journey that may be shaped by cultural, social, and personal experiences and beliefs. It is often a lifelong pursuit, constantly evolving and changing as a person grows and experiences new things.\"\n",
        "text = [porter.stem(token) for token in text.split(\" \")]\n",
        "print(\" \".join(text))"
      ]
    }
  ],
  "metadata": {
    "colab": {
      "provenance": []
    },
    "kernelspec": {
      "display_name": "Python 3",
      "language": "python",
      "name": "python3"
    },
    "language_info": {
      "codemirror_mode": {
        "name": "ipython",
        "version": 3
      },
      "file_extension": ".py",
      "mimetype": "text/x-python",
      "name": "python",
      "nbconvert_exporter": "python",
      "pygments_lexer": "ipython3",
      "version": "3.10.6"
    },
    "vscode": {
      "interpreter": {
        "hash": "916dbcbb3f70747c44a77c7bcd40155683ae19c65e1c03b4aa3499c5328201f1"
      }
    }
  },
  "nbformat": 4,
  "nbformat_minor": 0
}
